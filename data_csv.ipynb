import pandas as pd
from fpdf import FPDF

# Read data from CSV
data = pd.DataFrame({
    'Name': ['Alice', 'Bob', 'Charlie', 'David', 'Emma'],
    'Score': [85, 92, 78, 95, 88]
})


# Analyze data
average_score = data['Score'].mean()
max_score = data['Score'].max()
min_score = data['Score'].min()
top_student = data.loc[data['Score'].idxmax(), 'Name']

# Generate PDF Report
class PDFReport(FPDF):
    def header(self):
        self.set_font("Arial", 'B', 16)
        self.cell(0, 10, "Student Score Report", ln=True, align='C')
        self.ln(10)

    def footer(self):
        self.set_y(-15)
        self.set_font("Arial", 'I', 10)
        self.cell(0, 10, f"Page {self.page_no()}", align='C')  # Fixed the incomplete 'align' parameter

pdf = PDFReport()
pdf.add_page()
pdf.set_font("Arial", '', 12)

# Add Table Data
pdf.cell(0, 10, "Scores by Student:", ln=True)
pdf.ln(5)

for index, row in data.iterrows():
    pdf.cell(0, 10, f"{row['Name']}: {row['Score']}", ln=True)

# Add Summary
pdf.ln(10)
pdf.set_font("Arial", 'B', 12)
pdf.cell(0, 10, "Summary Statistics:", ln=True)
pdf.set_font("Arial", '', 12)
pdf.cell(0, 10, f"Average Score: {average_score:.2f}", ln=True)
pdf.cell(0, 10, f"Highest Score: {max_score} (by {top_student})", ln=True)
pdf.cell(0, 10, f"Lowest Score: {min_score}", ln=True)

# Save PDF
pdf.output("report.pdf")

print("PDF report generated as 'report.pdf'")
